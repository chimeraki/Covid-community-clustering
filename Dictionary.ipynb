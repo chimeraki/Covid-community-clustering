{
  "nbformat": 4,
  "nbformat_minor": 0,
  "metadata": {
    "colab": {
      "provenance": [],
      "authorship_tag": "ABX9TyOCN9X98vIA25rxsDKZR5zh",
      "include_colab_link": true
    },
    "kernelspec": {
      "name": "python3",
      "display_name": "Python 3"
    },
    "language_info": {
      "name": "python"
    }
  },
  "cells": [
    {
      "cell_type": "markdown",
      "metadata": {
        "id": "view-in-github",
        "colab_type": "text"
      },
      "source": [
        "<a href=\"https://colab.research.google.com/github/chimeraki/Covid-community-clustering/blob/master/Dictionary.ipynb\" target=\"_parent\"><img src=\"https://colab.research.google.com/assets/colab-badge.svg\" alt=\"Open In Colab\"/></a>"
      ]
    },
    {
      "cell_type": "markdown",
      "source": [
        "# Dictionaries in Python\n",
        "\n",
        "A Python dictionary is a data structure that stores the value in** key: value **pairs. Values in a dictionary can be of any data type and can be duplicated, whereas keys can’t be repeated and must be immutable."
      ],
      "metadata": {
        "id": "5_4az3lWdcgu"
      }
    },
    {
      "cell_type": "markdown",
      "source": [
        "## How to Create a Dictionary\n"
      ],
      "metadata": {
        "id": "YYUJOMoneUxq"
      }
    },
    {
      "cell_type": "code",
      "source": [
        "# create dictionary using { }\n",
        "d = {1: 'Hello', 2: 'Python', 3: 'BMU'}\n",
        "print(d,'\\n')\n",
        "\n",
        "# create dictionary using dict() constructor\n",
        "d2 = dict(a = \"hello\", b = \"BMU\", c = \"Python\")\n",
        "print(d2)"
      ],
      "metadata": {
        "colab": {
          "base_uri": "https://localhost:8080/"
        },
        "id": "Ar2g7JiFeP7G",
        "outputId": "8899681e-dd48-4a96-a45c-6c8b12c594d1"
      },
      "execution_count": null,
      "outputs": [
        {
          "output_type": "stream",
          "name": "stdout",
          "text": [
            "{1: 'Hello', 2: 'Python', 3: 'BMU'} \n",
            "\n",
            "{'a': 'hello', 'b': 'BMU', 'c': 'Python'}\n"
          ]
        }
      ]
    },
    {
      "cell_type": "markdown",
      "source": [
        "* **Dictionary keys are case sensitive:** the same name but different cases of Key will be treated distinctly.\n",
        "* **Keys must be immutable:** This means keys can be strings, numbers, or tuples but not lists.\n",
        "* **Keys must be unique:** Duplicate keys are not allowed and any duplicate key will overwrite the previous value.\n",
        "* **Dictionary internally uses Hashing**. Hence, operations like search, insert, delete can be performed in Constant Time."
      ],
      "metadata": {
        "id": "My0cumEjerH3"
      }
    },
    {
      "cell_type": "markdown",
      "source": [
        "## Accessing Dictionary Items\n",
        "We can access a value from a dictionary by using the key within square brackets or get()method."
      ],
      "metadata": {
        "id": "t9wTRPtne3mO"
      }
    },
    {
      "cell_type": "code",
      "source": [
        "d = { \"name\": \"Alice\", 1: \"Python\", \"Lst\": [1,2,4] }\n",
        "\n",
        "# Access using key\n",
        "print(d[\"name\"])\n",
        "print(d['Lst'])\n",
        "# Access using get()\n",
        "print(d.get(\"name\"))"
      ],
      "metadata": {
        "colab": {
          "base_uri": "https://localhost:8080/"
        },
        "id": "-Q-0P2mQee9L",
        "outputId": "c7c71dab-1bc6-4a07-829e-becd238694d3"
      },
      "execution_count": null,
      "outputs": [
        {
          "output_type": "stream",
          "name": "stdout",
          "text": [
            "Alice\n",
            "[1, 2, 4]\n",
            "Alice\n"
          ]
        }
      ]
    },
    {
      "cell_type": "markdown",
      "source": [
        "## Adding and Updating Dictionary Items\n"
      ],
      "metadata": {
        "id": "_EjqxAZZfibS"
      }
    },
    {
      "cell_type": "code",
      "source": [
        "d = { \"name\": \"Alice\", 1: \"Python\", \"Lst\": [1,2,4] }\n",
        "\n",
        "# Adding a new key-value pair\n",
        "d[\"age\"] = 22\n",
        "\n",
        "# Updating an existing value\n",
        "d[1] = \"Python dict\"\n",
        "\n",
        "print(d)"
      ],
      "metadata": {
        "colab": {
          "base_uri": "https://localhost:8080/"
        },
        "id": "NvvYhJ_ie8vr",
        "outputId": "c3822ad8-b51a-440a-9d1b-8688d9d466df"
      },
      "execution_count": null,
      "outputs": [
        {
          "output_type": "stream",
          "name": "stdout",
          "text": [
            "{'name': 'Alice', 1: 'Python dict', 'Lst': [1, 2, 4], 'age': 22}\n"
          ]
        }
      ]
    },
    {
      "cell_type": "markdown",
      "source": [
        "## Removing Dictionary Items\n",
        "We can remove items from dictionary using the following methods:\n",
        "\n",
        "* del: Removes an item by key.\n",
        "* pop(): Removes an item by key and returns its value.\n",
        "* clear(): Empties the dictionary.\n",
        "* popitem(): Removes and returns the last key-value pair."
      ],
      "metadata": {
        "id": "A3cr9j7IfsvN"
      }
    },
    {
      "cell_type": "code",
      "source": [
        "d = {'name': 'Alice', 1: 'Python dict', 'Lst': [1, 2, 4], 'age': 22}\n",
        "\n",
        "# Using del to remove an item\n",
        "del d[\"age\"]\n",
        "print(d)\n",
        "\n",
        "# Using pop() to remove an item and return the value\n",
        "val = d.pop(1)\n",
        "print(val)\n",
        "\n",
        "# Using popitem to removes and returns\n",
        "# the last key-value pair.\n",
        "key, val = d.popitem()\n",
        "print(f\"Key: {key}, Value: {val}\")\n",
        "\n",
        "# Clear all items from the dictionary\n",
        "d.clear()\n",
        "print(d)"
      ],
      "metadata": {
        "colab": {
          "base_uri": "https://localhost:8080/"
        },
        "id": "uSec5sBIfDN0",
        "outputId": "44eb2b9f-70a1-4402-9171-be8e21265f78"
      },
      "execution_count": null,
      "outputs": [
        {
          "output_type": "stream",
          "name": "stdout",
          "text": [
            "{'name': 'Alice', 1: 'Python dict', 'Lst': [1, 2, 4]}\n",
            "Python dict\n",
            "Key: Lst, Value: [1, 2, 4]\n",
            "{}\n"
          ]
        }
      ]
    },
    {
      "cell_type": "code",
      "source": [
        "\n"
      ],
      "metadata": {
        "id": "eNenXToGf013"
      },
      "execution_count": 25,
      "outputs": []
    },
    {
      "cell_type": "markdown",
      "source": [
        "## Iterating Through a Dictionary"
      ],
      "metadata": {
        "id": "_kbY2QFe4CMh"
      }
    },
    {
      "cell_type": "code",
      "source": [
        "d = {'name': 'Alice', 1: 'Python dict', 'Lst': [1, 2, 4], 'age': 22}\n",
        "# Iterate over keys\n",
        "for key in d:\n",
        "    print(key)\n",
        "\n",
        "# Iterate over values\n",
        "for value in d.values():\n",
        "    print(value)\n",
        "\n",
        "# Iterate over key-value pairs\n",
        "for key, value in d.items():\n",
        "    print(f\"{key}: {value}\")"
      ],
      "metadata": {
        "colab": {
          "base_uri": "https://localhost:8080/"
        },
        "id": "Bw4shfKEgA0t",
        "outputId": "47d4cdb8-1d8c-4388-f1d7-8aa2b6299d99"
      },
      "execution_count": null,
      "outputs": [
        {
          "output_type": "stream",
          "name": "stdout",
          "text": [
            "name\n",
            "1\n",
            "Lst\n",
            "age\n",
            "Alice\n",
            "Python dict\n",
            "[1, 2, 4]\n",
            "22\n",
            "name: Alice\n",
            "1: Python dict\n",
            "Lst: [1, 2, 4]\n",
            "age: 22\n"
          ]
        }
      ]
    },
    {
      "cell_type": "markdown",
      "source": [
        "## Nested Dictionaries\n"
      ],
      "metadata": {
        "id": "OzKrVyIvgT35"
      }
    },
    {
      "cell_type": "code",
      "source": [
        "d = {1: 'Hello', 2: 'For',\n",
        "        3: {'A': 'Welcome', 'B': 'To', 'C': 'BMU'}}\n",
        "\n",
        "print(d)"
      ],
      "metadata": {
        "colab": {
          "base_uri": "https://localhost:8080/"
        },
        "id": "yX-x8_QvgE5v",
        "outputId": "339eebb2-8bf8-4d9e-b742-6100282cd097"
      },
      "execution_count": null,
      "outputs": [
        {
          "output_type": "stream",
          "name": "stdout",
          "text": [
            "{1: 'Hello', 2: 'For', 3: {'A': 'Welcome', 'B': 'To', 'C': 'BMU'}}\n"
          ]
        }
      ]
    },
    {
      "cell_type": "code",
      "source": [],
      "metadata": {
        "id": "8YicOxH_gXeo"
      },
      "execution_count": null,
      "outputs": []
    }
  ]
}